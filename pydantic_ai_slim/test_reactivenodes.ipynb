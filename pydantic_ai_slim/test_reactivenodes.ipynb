{
 "cells": [
  {
   "cell_type": "code",
   "execution_count": 1,
   "id": "48622782",
   "metadata": {},
   "outputs": [],
   "source": [
    "from pydantic_ai import Agent, Tool\n",
    "from pydantic_ai.exceptions import ModelRetry\n",
    "from pydantic_ai.models.openai import OpenAIModel\n",
    "from pydantic_ai.providers.openai import OpenAIProvider\n",
    "import os\n",
    "from dotenv import load_dotenv\n",
    "\n",
    "load_dotenv(dotenv_path=\"env/.env\")\n",
    "\n",
    "# Create the model with OpenRouter configuration\n",
    "api_key = os.environ.get(\"OPENROUTER_API_KEY\")\n",
    "base_url = os.environ.get(\"OPENROUTER_BASE_URL\")\n",
    "\n",
    "model = OpenAIModel(\n",
    "    model_name=\"gpt-3.5-turbo\",\n",
    "    provider=OpenAIProvider(base_url=base_url, api_key=api_key),\n",
    ")"
   ]
  },
  {
   "cell_type": "code",
   "execution_count": null,
   "id": "6a6f5762",
   "metadata": {},
   "outputs": [],
   "source": [
    "async def plan_holiday(destination: str, duration: str):\n",
    "    \"\"\"Plan a holiday.\"\"\"\n",
    "    return f\"Holiday plan completed: {destination} for {duration} days. The plan is ready for booking.\"\n",
    "\n",
    "my_tool = Tool(\n",
    "    name=\"holiday_planner\",\n",
    "    function=plan_holiday,\n",
    "    description=\"Plan a complete holiday with destination and duration. Return the final plan ready for booking.\"\n",
    ")\n",
    "\n",
    "# Create agent\n",
    "agent = Agent(\n",
    "    model=model,\n",
    "    tools=[my_tool],\n",
    "    instructions=\"You are a helpful holiday planning assistant. Use tools when needed.\"\n",
    ")"
   ]
  },
  {
   "cell_type": "code",
   "execution_count": 3,
   "id": "414475d9",
   "metadata": {},
   "outputs": [],
   "source": [
    "async def request_holiday_confirmation(context):\n",
    "    tool_call = context['tool_call']\n",
    "    \n",
    "    # Get the holiday details from the tool call\n",
    "    args = tool_call.args_as_dict()\n",
    "    destination = args.get('destination', 'unknown')\n",
    "    duration = args.get('duration', 'unknown')\n",
    "    \n",
    "    print(f\"Please confirm with destionation: {destination} and duration: {duration}\")\n",
    "    print(\"┌─────────────┬────────────┐\")\n",
    "    print(\"│    [y]es    │    [n]o    │\")\n",
    "    print(\"└─────────────┴────────────┘\")\n",
    "    \n",
    "    user_input = input(\"Enter y or n: \").lower().strip()\n",
    "    \n",
    "    if user_input == 'y':\n",
    "        print(\"✅ Holiday plan approved - user pressed [y]\")\n",
    "        return None  # Allow the tool to execute\n",
    "    elif user_input == 'n':\n",
    "        print(\"❌ Holiday plan denied - user pressed [n]\")\n",
    "        return ModelRetry(\"Holiday plan was denied by user. Ask help from the user.\")\n",
    "    \n",
    "\n",
    "async def log_after(context):\n",
    "    tool_call = context['tool_call']\n",
    "    print(f\"🔒 {tool_call.tool_name} approved {tool_call.args}\")\n",
    "\n",
    "agent.on.tool(my_tool).before = request_holiday_confirmation\n",
    "agent.on.tool(my_tool).after = log_after"
   ]
  },
  {
   "cell_type": "code",
   "execution_count": 4,
   "id": "052c7d30",
   "metadata": {},
   "outputs": [
    {
     "name": "stdout",
     "output_type": "stream",
     "text": [
      "Please confirm with destionation: Switzerland and duration: 7 days\n",
      "┌─────────────┬────────────┐\n",
      "│    [y]es    │    [n]o    │\n",
      "└─────────────┴────────────┘\n",
      "✅ Holiday plan approved - user pressed [y]\n",
      "🔒 holiday_planner approved {\"destination\":\"Switzerland\",\"duration\":\"7 days\"}\n"
     ]
    },
    {
     "data": {
      "text/plain": [
       "AgentRunResult(output='I have planned a holiday to Switzerland for 7 days. The plan is ready for booking.')"
      ]
     },
     "execution_count": 4,
     "metadata": {},
     "output_type": "execute_result"
    }
   ],
   "source": [
    "# Test the holiday planner\n",
    "await agent.run(\"Plan a holiday to Switzerland for 7 days\")"
   ]
  },
  {
   "cell_type": "code",
   "execution_count": 5,
   "id": "6a6d4a78",
   "metadata": {},
   "outputs": [
    {
     "name": "stdout",
     "output_type": "stream",
     "text": [
      "Please confirm with destionation: Switzerland and duration: 7 days\n",
      "┌─────────────┬────────────┐\n",
      "│    [y]es    │    [n]o    │\n",
      "└─────────────┴────────────┘\n",
      "❌ Holiday plan denied - user pressed [n]\n"
     ]
    },
    {
     "data": {
      "text/plain": [
       "AgentRunResult(output=\"I'm sorry that the holiday plan was not approved. Let me know how I can assist you better with planning your holiday to Switzerland for 7 days.\")"
      ]
     },
     "execution_count": 5,
     "metadata": {},
     "output_type": "execute_result"
    }
   ],
   "source": [
    "# Test the holiday planner\n",
    "await agent.run(\"Plan a holiday to Switzerland for 7 days\")"
   ]
  }
 ],
 "metadata": {
  "kernelspec": {
   "display_name": "stable",
   "language": "python",
   "name": "python3"
  },
  "language_info": {
   "codemirror_mode": {
    "name": "ipython",
    "version": 3
   },
   "file_extension": ".py",
   "mimetype": "text/x-python",
   "name": "python",
   "nbconvert_exporter": "python",
   "pygments_lexer": "ipython3",
   "version": "3.12.9"
  }
 },
 "nbformat": 4,
 "nbformat_minor": 5
}
